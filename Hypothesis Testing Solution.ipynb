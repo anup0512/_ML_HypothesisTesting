{
 "cells": [
  {
   "cell_type": "markdown",
   "id": "27b63985",
   "metadata": {},
   "source": [
    "# Hypothesis Testing"
   ]
  },
  {
   "cell_type": "markdown",
   "id": "38957677",
   "metadata": {},
   "source": [
    " Q1. \n",
    " A F&B manager wants to determine if there is any significant difference in the diameter of the cutlet between two units. \n",
    " A randomly selected sample of cutlets was collected from both units and measured.\n",
    " Analyze the data and draw inferences at 5% significance level. \n",
    " Please state the assumptions and tests that you carried out to check validity of the assumptions."
   ]
  },
  {
   "cell_type": "code",
   "execution_count": 1,
   "id": "913edfbf",
   "metadata": {},
   "outputs": [],
   "source": [
    "# Step1 : Make two hypothesis, one contradicting the other. We need to check if the mean of both the samples are different.\n",
    "# Null hypothesis H0   : Unit A = Unit B\n",
    "# Alternate hypothesis : Unit A ≠ Unit B\n",
    "# We know that data is numerical and has two independent samples so we can do a 2 Tailed t-test."
   ]
  },
  {
   "cell_type": "code",
   "execution_count": 2,
   "id": "0e876d9c",
   "metadata": {},
   "outputs": [],
   "source": [
    "# Step2 : Significance level = 5%\n",
    "# Alpha = 0.05\n",
    "# Since we'll perform a 2 Tailed t-test, Alpha/2 = 0.025"
   ]
  },
  {
   "cell_type": "code",
   "execution_count": 3,
   "id": "63879376",
   "metadata": {},
   "outputs": [],
   "source": [
    "# Step3 : Collect Evidence"
   ]
  },
  {
   "cell_type": "code",
   "execution_count": 4,
   "id": "2be60154",
   "metadata": {},
   "outputs": [],
   "source": [
    "import pandas as pd"
   ]
  },
  {
   "cell_type": "code",
   "execution_count": 5,
   "id": "20fd0392",
   "metadata": {},
   "outputs": [
    {
     "data": {
      "text/html": [
       "<div>\n",
       "<style scoped>\n",
       "    .dataframe tbody tr th:only-of-type {\n",
       "        vertical-align: middle;\n",
       "    }\n",
       "\n",
       "    .dataframe tbody tr th {\n",
       "        vertical-align: top;\n",
       "    }\n",
       "\n",
       "    .dataframe thead th {\n",
       "        text-align: right;\n",
       "    }\n",
       "</style>\n",
       "<table border=\"1\" class=\"dataframe\">\n",
       "  <thead>\n",
       "    <tr style=\"text-align: right;\">\n",
       "      <th></th>\n",
       "      <th>Unit A</th>\n",
       "      <th>Unit B</th>\n",
       "    </tr>\n",
       "  </thead>\n",
       "  <tbody>\n",
       "    <tr>\n",
       "      <th>0</th>\n",
       "      <td>6.8090</td>\n",
       "      <td>6.7703</td>\n",
       "    </tr>\n",
       "    <tr>\n",
       "      <th>1</th>\n",
       "      <td>6.4376</td>\n",
       "      <td>7.5093</td>\n",
       "    </tr>\n",
       "    <tr>\n",
       "      <th>2</th>\n",
       "      <td>6.9157</td>\n",
       "      <td>6.7300</td>\n",
       "    </tr>\n",
       "    <tr>\n",
       "      <th>3</th>\n",
       "      <td>7.3012</td>\n",
       "      <td>6.7878</td>\n",
       "    </tr>\n",
       "    <tr>\n",
       "      <th>4</th>\n",
       "      <td>7.4488</td>\n",
       "      <td>7.1522</td>\n",
       "    </tr>\n",
       "  </tbody>\n",
       "</table>\n",
       "</div>"
      ],
      "text/plain": [
       "   Unit A  Unit B\n",
       "0  6.8090  6.7703\n",
       "1  6.4376  7.5093\n",
       "2  6.9157  6.7300\n",
       "3  7.3012  6.7878\n",
       "4  7.4488  7.1522"
      ]
     },
     "execution_count": 5,
     "metadata": {},
     "output_type": "execute_result"
    }
   ],
   "source": [
    "# Importing the data\n",
    "cut = pd.read_csv(\"C:/Users/Administrator/Desktop/ExcelR/Assignment/Assignment3/Cutlets.csv\")\n",
    "cut.head()  "
   ]
  },
  {
   "cell_type": "code",
   "execution_count": 6,
   "id": "4b1c1833",
   "metadata": {},
   "outputs": [
    {
     "data": {
      "text/html": [
       "<div>\n",
       "<style scoped>\n",
       "    .dataframe tbody tr th:only-of-type {\n",
       "        vertical-align: middle;\n",
       "    }\n",
       "\n",
       "    .dataframe tbody tr th {\n",
       "        vertical-align: top;\n",
       "    }\n",
       "\n",
       "    .dataframe thead th {\n",
       "        text-align: right;\n",
       "    }\n",
       "</style>\n",
       "<table border=\"1\" class=\"dataframe\">\n",
       "  <thead>\n",
       "    <tr style=\"text-align: right;\">\n",
       "      <th></th>\n",
       "      <th>count</th>\n",
       "      <th>mean</th>\n",
       "      <th>std</th>\n",
       "      <th>min</th>\n",
       "      <th>25%</th>\n",
       "      <th>50%</th>\n",
       "      <th>75%</th>\n",
       "      <th>max</th>\n",
       "    </tr>\n",
       "  </thead>\n",
       "  <tbody>\n",
       "    <tr>\n",
       "      <th>Unit A</th>\n",
       "      <td>35.0</td>\n",
       "      <td>7.019091</td>\n",
       "      <td>0.288408</td>\n",
       "      <td>6.4376</td>\n",
       "      <td>6.8315</td>\n",
       "      <td>6.9438</td>\n",
       "      <td>7.28055</td>\n",
       "      <td>7.5169</td>\n",
       "    </tr>\n",
       "    <tr>\n",
       "      <th>Unit B</th>\n",
       "      <td>35.0</td>\n",
       "      <td>6.964297</td>\n",
       "      <td>0.343401</td>\n",
       "      <td>6.0380</td>\n",
       "      <td>6.7536</td>\n",
       "      <td>6.9399</td>\n",
       "      <td>7.19500</td>\n",
       "      <td>7.5459</td>\n",
       "    </tr>\n",
       "  </tbody>\n",
       "</table>\n",
       "</div>"
      ],
      "text/plain": [
       "        count      mean       std     min     25%     50%      75%     max\n",
       "Unit A   35.0  7.019091  0.288408  6.4376  6.8315  6.9438  7.28055  7.5169\n",
       "Unit B   35.0  6.964297  0.343401  6.0380  6.7536  6.9399  7.19500  7.5459"
      ]
     },
     "execution_count": 6,
     "metadata": {},
     "output_type": "execute_result"
    }
   ],
   "source": [
    "# Using descriptive statistics: \n",
    "cut.describe().T"
   ]
  },
  {
   "cell_type": "code",
   "execution_count": 7,
   "id": "4ea4dd0e",
   "metadata": {},
   "outputs": [
    {
     "data": {
      "text/plain": [
       "Unit A    0\n",
       "Unit B    0\n",
       "dtype: int64"
      ]
     },
     "execution_count": 7,
     "metadata": {},
     "output_type": "execute_result"
    }
   ],
   "source": [
    "# Checking for null values: \n",
    "cut.isnull().sum()"
   ]
  },
  {
   "cell_type": "code",
   "execution_count": 8,
   "id": "753e03e9",
   "metadata": {},
   "outputs": [
    {
     "data": {
      "text/plain": [
       "0"
      ]
     },
     "execution_count": 8,
     "metadata": {},
     "output_type": "execute_result"
    }
   ],
   "source": [
    "# Checking for duplicate values: \n",
    "cut.duplicated().sum()"
   ]
  },
  {
   "cell_type": "code",
   "execution_count": 9,
   "id": "02c86435",
   "metadata": {},
   "outputs": [
    {
     "name": "stdout",
     "output_type": "stream",
     "text": [
      "<class 'pandas.core.frame.DataFrame'>\n",
      "RangeIndex: 35 entries, 0 to 34\n",
      "Data columns (total 2 columns):\n",
      " #   Column  Non-Null Count  Dtype  \n",
      "---  ------  --------------  -----  \n",
      " 0   Unit A  35 non-null     float64\n",
      " 1   Unit B  35 non-null     float64\n",
      "dtypes: float64(2)\n",
      "memory usage: 688.0 bytes\n"
     ]
    }
   ],
   "source": [
    "# Checking for data type: \n",
    "cut.info()"
   ]
  },
  {
   "cell_type": "code",
   "execution_count": 10,
   "id": "a4bb7ff6",
   "metadata": {},
   "outputs": [],
   "source": [
    "# Plotting the data :  "
   ]
  },
  {
   "cell_type": "code",
   "execution_count": 11,
   "id": "bcacd46f",
   "metadata": {},
   "outputs": [
    {
     "data": {
      "image/png": "[encoded data removed]",
      "text/plain": [
       "<Figure size 1000x500 with 1 Axes>"
      ]
     },
     "metadata": {},
     "output_type": "display_data"
    }
   ],
   "source": [
    "import matplotlib.pyplot as plt\n",
    "plt.figure(figsize= (10,5))\n",
    "plt.boxplot(cut)\n",
    "plt.title('Box Plot')\n",
    "plt.show()"
   ]
  },
  {
   "cell_type": "code",
   "execution_count": 12,
   "id": "3da23a7a",
   "metadata": {},
   "outputs": [
    {
     "data": {
      "image/png": "[encoded data removed]",
      "text/plain": [
       "<Figure size 1000x500 with 1 Axes>"
      ]
     },
     "metadata": {},
     "output_type": "display_data"
    }
   ],
   "source": [
    "plt.figure(figsize=(10,5))\n",
    "plt.hist(cut, bins = 15)\n",
    "plt.title('Histogram')\n",
    "plt.show()"
   ]
  },
  {
   "cell_type": "code",
   "execution_count": 13,
   "id": "18ea3a78",
   "metadata": {},
   "outputs": [
    {
     "data": {
      "text/plain": [
       "Unit A    0.083179\n",
       "Unit B    0.117924\n",
       "dtype: float64"
      ]
     },
     "execution_count": 13,
     "metadata": {},
     "output_type": "execute_result"
    }
   ],
   "source": [
    "cut.var()"
   ]
  },
  {
   "cell_type": "code",
   "execution_count": 14,
   "id": "1218c8fd",
   "metadata": {},
   "outputs": [],
   "source": [
    "# Step 4: Find P value and compare with Alpha: "
   ]
  },
  {
   "cell_type": "code",
   "execution_count": 15,
   "id": "416b4a4a",
   "metadata": {},
   "outputs": [],
   "source": [
    "import scipy.stats as stats"
   ]
  },
  {
   "cell_type": "code",
   "execution_count": 20,
   "id": "cd5539ee",
   "metadata": {},
   "outputs": [
    {
     "name": "stdout",
     "output_type": "stream",
     "text": [
      "p_value is :  0.4722394724599501 & significance level is : 0.025\n"
     ]
    }
   ],
   "source": [
    "statistic , pvalue = stats.ttest_ind(cut['Unit A'],cut['Unit B'],alternative= 'two-sided')\n",
    "print('p_value is : ' ,pvalue , '& significance level is : 0.025')"
   ]
  },
  {
   "cell_type": "code",
   "execution_count": 17,
   "id": "fd189152",
   "metadata": {},
   "outputs": [],
   "source": [
    "# p_value > 0.025\n",
    "# Since p_value is high, we fail to reject H0 which means there is no significant difference \n",
    "# between diameters of 'Unit A' & 'Unit B' cutlets."
   ]
  },
  {
   "cell_type": "code",
   "execution_count": null,
   "id": "47eeddf1",
   "metadata": {},
   "outputs": [],
   "source": []
  },
  {
   "cell_type": "code",
   "execution_count": null,
   "id": "e76d97c4",
   "metadata": {},
   "outputs": [],
   "source": []
  },
  {
   "cell_type": "markdown",
   "id": "04f166b1",
   "metadata": {},
   "source": [
    " Q2. A hospital wants to determine whether there is any difference in the average Turn Around Time (TAT) of reports \n",
    "    of the laboratories on their preferred list. They collected a random sample and recorded TAT \n",
    "    for reports of 4 laboratories. TAT is defined as sample collected to report dispatch.\n",
    "    Analyze the data and determine whether there is any difference in average TAT among the \n",
    "    different laboratories at 5% significance level.\n"
   ]
  },
  {
   "cell_type": "code",
   "execution_count": 18,
   "id": "d06b23c0",
   "metadata": {},
   "outputs": [],
   "source": [
    "# Step1 : Make two hypothesis: We need to check if the mean of all 4 samples are same or atleast 1 is different.\n",
    "# Null hypothesis H0   : Sample1 = Sample 2 = Sample 3 = Sample 4\n",
    "# Alternate hypothesis : There is a difference in TAT for reports of atleast 1 lab.\n",
    "# We know that data is numerical and has 4 independent numeric samples. Hence we'll conduct ANOVA test."
   ]
  },
  {
   "cell_type": "code",
   "execution_count": 19,
   "id": "677d3576",
   "metadata": {},
   "outputs": [],
   "source": [
    "# Step2 : Significance level = 5%\n",
    "# Alpha = 0.05"
   ]
  },
  {
   "cell_type": "code",
   "execution_count": 21,
   "id": "61253a4c",
   "metadata": {},
   "outputs": [],
   "source": [
    "# Step3: We import the data and anlayze it by performing descriptive statistics"
   ]
  },
  {
   "cell_type": "code",
   "execution_count": 22,
   "id": "7362d940",
   "metadata": {},
   "outputs": [],
   "source": [
    "import pandas as pd"
   ]
  },
  {
   "cell_type": "code",
   "execution_count": 23,
   "id": "0c47c1c0",
   "metadata": {},
   "outputs": [
    {
     "data": {
      "text/html": [
       "<div>\n",
       "<style scoped>\n",
       "    .dataframe tbody tr th:only-of-type {\n",
       "        vertical-align: middle;\n",
       "    }\n",
       "\n",
       "    .dataframe tbody tr th {\n",
       "        vertical-align: top;\n",
       "    }\n",
       "\n",
       "    .dataframe thead th {\n",
       "        text-align: right;\n",
       "    }\n",
       "</style>\n",
       "<table border=\"1\" class=\"dataframe\">\n",
       "  <thead>\n",
       "    <tr style=\"text-align: right;\">\n",
       "      <th></th>\n",
       "      <th>Laboratory 1</th>\n",
       "      <th>Laboratory 2</th>\n",
       "      <th>Laboratory 3</th>\n",
       "      <th>Laboratory 4</th>\n",
       "    </tr>\n",
       "  </thead>\n",
       "  <tbody>\n",
       "    <tr>\n",
       "      <th>0</th>\n",
       "      <td>185.35</td>\n",
       "      <td>165.53</td>\n",
       "      <td>176.70</td>\n",
       "      <td>166.13</td>\n",
       "    </tr>\n",
       "    <tr>\n",
       "      <th>1</th>\n",
       "      <td>170.49</td>\n",
       "      <td>185.91</td>\n",
       "      <td>198.45</td>\n",
       "      <td>160.79</td>\n",
       "    </tr>\n",
       "    <tr>\n",
       "      <th>2</th>\n",
       "      <td>192.77</td>\n",
       "      <td>194.92</td>\n",
       "      <td>201.23</td>\n",
       "      <td>185.18</td>\n",
       "    </tr>\n",
       "    <tr>\n",
       "      <th>3</th>\n",
       "      <td>177.33</td>\n",
       "      <td>183.00</td>\n",
       "      <td>199.61</td>\n",
       "      <td>176.42</td>\n",
       "    </tr>\n",
       "    <tr>\n",
       "      <th>4</th>\n",
       "      <td>193.41</td>\n",
       "      <td>169.57</td>\n",
       "      <td>204.63</td>\n",
       "      <td>152.60</td>\n",
       "    </tr>\n",
       "  </tbody>\n",
       "</table>\n",
       "</div>"
      ],
      "text/plain": [
       "   Laboratory 1  Laboratory 2  Laboratory 3  Laboratory 4\n",
       "0        185.35        165.53        176.70        166.13\n",
       "1        170.49        185.91        198.45        160.79\n",
       "2        192.77        194.92        201.23        185.18\n",
       "3        177.33        183.00        199.61        176.42\n",
       "4        193.41        169.57        204.63        152.60"
      ]
     },
     "execution_count": 23,
     "metadata": {},
     "output_type": "execute_result"
    }
   ],
   "source": [
    "lab = pd.read_csv(\"C:/Users/Administrator/Desktop/ExcelR/Assignment/Assignment3/LabTAT.csv\")\n",
    "lab.head()"
   ]
  },
  {
   "cell_type": "code",
   "execution_count": 25,
   "id": "c1e094bc",
   "metadata": {},
   "outputs": [
    {
     "data": {
      "text/html": [
       "<div>\n",
       "<style scoped>\n",
       "    .dataframe tbody tr th:only-of-type {\n",
       "        vertical-align: middle;\n",
       "    }\n",
       "\n",
       "    .dataframe tbody tr th {\n",
       "        vertical-align: top;\n",
       "    }\n",
       "\n",
       "    .dataframe thead th {\n",
       "        text-align: right;\n",
       "    }\n",
       "</style>\n",
       "<table border=\"1\" class=\"dataframe\">\n",
       "  <thead>\n",
       "    <tr style=\"text-align: right;\">\n",
       "      <th></th>\n",
       "      <th>count</th>\n",
       "      <th>mean</th>\n",
       "      <th>std</th>\n",
       "      <th>min</th>\n",
       "      <th>25%</th>\n",
       "      <th>50%</th>\n",
       "      <th>75%</th>\n",
       "      <th>max</th>\n",
       "    </tr>\n",
       "  </thead>\n",
       "  <tbody>\n",
       "    <tr>\n",
       "      <th>Laboratory 1</th>\n",
       "      <td>120.0</td>\n",
       "      <td>178.361583</td>\n",
       "      <td>13.173594</td>\n",
       "      <td>138.30</td>\n",
       "      <td>170.3350</td>\n",
       "      <td>178.530</td>\n",
       "      <td>186.5350</td>\n",
       "      <td>216.39</td>\n",
       "    </tr>\n",
       "    <tr>\n",
       "      <th>Laboratory 2</th>\n",
       "      <td>120.0</td>\n",
       "      <td>178.902917</td>\n",
       "      <td>14.957114</td>\n",
       "      <td>140.55</td>\n",
       "      <td>168.0250</td>\n",
       "      <td>178.870</td>\n",
       "      <td>189.1125</td>\n",
       "      <td>217.86</td>\n",
       "    </tr>\n",
       "    <tr>\n",
       "      <th>Laboratory 3</th>\n",
       "      <td>120.0</td>\n",
       "      <td>199.913250</td>\n",
       "      <td>16.539033</td>\n",
       "      <td>159.69</td>\n",
       "      <td>188.2325</td>\n",
       "      <td>199.805</td>\n",
       "      <td>211.3325</td>\n",
       "      <td>238.70</td>\n",
       "    </tr>\n",
       "    <tr>\n",
       "      <th>Laboratory 4</th>\n",
       "      <td>120.0</td>\n",
       "      <td>163.682750</td>\n",
       "      <td>15.085080</td>\n",
       "      <td>124.06</td>\n",
       "      <td>154.0500</td>\n",
       "      <td>164.425</td>\n",
       "      <td>172.8825</td>\n",
       "      <td>205.18</td>\n",
       "    </tr>\n",
       "  </tbody>\n",
       "</table>\n",
       "</div>"
      ],
      "text/plain": [
       "              count        mean        std     min       25%      50%  \\\n",
       "Laboratory 1  120.0  178.361583  13.173594  138.30  170.3350  178.530   \n",
       "Laboratory 2  120.0  178.902917  14.957114  140.55  168.0250  178.870   \n",
       "Laboratory 3  120.0  199.913250  16.539033  159.69  188.2325  199.805   \n",
       "Laboratory 4  120.0  163.682750  15.085080  124.06  154.0500  164.425   \n",
       "\n",
       "                   75%     max  \n",
       "Laboratory 1  186.5350  216.39  \n",
       "Laboratory 2  189.1125  217.86  \n",
       "Laboratory 3  211.3325  238.70  \n",
       "Laboratory 4  172.8825  205.18  "
      ]
     },
     "execution_count": 25,
     "metadata": {},
     "output_type": "execute_result"
    }
   ],
   "source": [
    "#Describing the data:\n",
    "lab.describe().T"
   ]
  },
  {
   "cell_type": "code",
   "execution_count": 27,
   "id": "d8efaae7",
   "metadata": {},
   "outputs": [
    {
     "data": {
      "text/plain": [
       "Laboratory 1    0\n",
       "Laboratory 2    0\n",
       "Laboratory 3    0\n",
       "Laboratory 4    0\n",
       "dtype: int64"
      ]
     },
     "execution_count": 27,
     "metadata": {},
     "output_type": "execute_result"
    }
   ],
   "source": [
    "#Checking for null values:\n",
    "lab.isnull().sum()"
   ]
  },
  {
   "cell_type": "code",
   "execution_count": 30,
   "id": "839fa0c9",
   "metadata": {},
   "outputs": [
    {
     "data": {
      "text/plain": [
       "0"
      ]
     },
     "execution_count": 30,
     "metadata": {},
     "output_type": "execute_result"
    }
   ],
   "source": [
    "#Checking for duplicate values:\n",
    "lab.duplicated().sum()"
   ]
  },
  {
   "cell_type": "code",
   "execution_count": 32,
   "id": "a8da8cf1",
   "metadata": {},
   "outputs": [
    {
     "name": "stdout",
     "output_type": "stream",
     "text": [
      "<class 'pandas.core.frame.DataFrame'>\n",
      "RangeIndex: 120 entries, 0 to 119\n",
      "Data columns (total 4 columns):\n",
      " #   Column        Non-Null Count  Dtype  \n",
      "---  ------        --------------  -----  \n",
      " 0   Laboratory 1  120 non-null    float64\n",
      " 1   Laboratory 2  120 non-null    float64\n",
      " 2   Laboratory 3  120 non-null    float64\n",
      " 3   Laboratory 4  120 non-null    float64\n",
      "dtypes: float64(4)\n",
      "memory usage: 3.9 KB\n"
     ]
    }
   ],
   "source": [
    "#Checking for data type:\n",
    "lab.info()"
   ]
  },
  {
   "cell_type": "code",
   "execution_count": 33,
   "id": "78addb56",
   "metadata": {},
   "outputs": [],
   "source": [
    "#Plotting the data: "
   ]
  },
  {
   "cell_type": "code",
   "execution_count": 44,
   "id": "5969325d",
   "metadata": {},
   "outputs": [
    {
     "data": {
      "image/png": "[encoded data removed]",
      "text/plain": [
       "<Figure size 800x1000 with 4 Axes>"
      ]
     },
     "metadata": {},
     "output_type": "display_data"
    }
   ],
   "source": [
    "fig, ax = plt.subplots(nrows=2,ncols=2,figsize=(8,10))\n",
    "ax[0,0].boxplot(lab['Laboratory 1'])\n",
    "ax[0,0].set_title('Laboratory1')\n",
    "ax[0,1].boxplot(lab['Laboratory 2'])\n",
    "ax[0,1].set_title('Laboratory2')\n",
    "ax[1,0].boxplot(lab['Laboratory 3'])\n",
    "ax[1,0].set_title('Laboratory3')\n",
    "ax[1,1].boxplot(lab['Laboratory 4'])\n",
    "ax[1,1].set_title('Laboratory4')\n",
    "plt.show()"
   ]
  },
  {
   "cell_type": "code",
   "execution_count": 43,
   "id": "81395c0c",
   "metadata": {},
   "outputs": [
    {
     "data": {
      "image/png": "[encoded data removed]",
      "text/plain": [
       "<Figure size 1500x1000 with 4 Axes>"
      ]
     },
     "metadata": {},
     "output_type": "display_data"
    }
   ],
   "source": [
    "fig, ax = plt.subplots(nrows=2,ncols=2,figsize=(15,10))\n",
    "ax[0,0].hist(lab['Laboratory 1'],bins = 20)\n",
    "ax[0,0].set_title('Laboratory1')\n",
    "ax[0,1].hist(lab['Laboratory 2'],bins = 20)\n",
    "ax[0,1].set_title('Laboratory2')\n",
    "ax[1,0].hist(lab['Laboratory 3'],bins = 20)\n",
    "ax[1,0].set_title('Laboratory3')\n",
    "ax[1,1].hist(lab['Laboratory 4'],bins = 20)\n",
    "ax[1,1].set_title('Laboratory4')\n",
    "plt.show()"
   ]
  },
  {
   "cell_type": "code",
   "execution_count": 51,
   "id": "e04a16fc",
   "metadata": {},
   "outputs": [
    {
     "data": {
      "image/png": "[encoded data removed]",
      "text/plain": [
       "<Figure size 640x480 with 1 Axes>"
      ]
     },
     "metadata": {},
     "output_type": "display_data"
    },
    {
     "data": {
      "image/png": "[encoded data removed]",
      "text/plain": [
       "<Figure size 640x480 with 1 Axes>"
      ]
     },
     "metadata": {},
     "output_type": "display_data"
    },
    {
     "data": {
      "image/png": "[encoded data removed]",
      "text/plain": [
       "<Figure size 640x480 with 1 Axes>"
      ]
     },
     "metadata": {},
     "output_type": "display_data"
    },
    {
     "data": {
      "image/png": "[encoded data removed]",
      "text/plain": [
       "<Figure size 640x480 with 1 Axes>"
      ]
     },
     "metadata": {},
     "output_type": "display_data"
    }
   ],
   "source": [
    "#Plotting QQ plot to check if data is normally distributed: \n",
    "import statsmodels.api as sm\n",
    "sm.qqplot(lab['Laboratory 1'],line= 'q')\n",
    "plt.title('Lab 1')\n",
    "sm.qqplot(lab['Laboratory 2'],line= 'q')\n",
    "plt.title('Lab 2')\n",
    "sm.qqplot(lab['Laboratory 3'],line= 'q')\n",
    "plt.title('Lab 3')\n",
    "sm.qqplot(lab['Laboratory 4'],line= 'q')\n",
    "plt.title('Lab 4')\n",
    "plt.show()"
   ]
  },
  {
   "cell_type": "code",
   "execution_count": 52,
   "id": "6bede1be",
   "metadata": {},
   "outputs": [],
   "source": [
    "# Step 4: Find P value and compare with Significance level: "
   ]
  },
  {
   "cell_type": "code",
   "execution_count": 57,
   "id": "04a4a0f5",
   "metadata": {},
   "outputs": [
    {
     "name": "stdout",
     "output_type": "stream",
     "text": [
      "The p_value is :  2.1156708949992414e-57\n"
     ]
    }
   ],
   "source": [
    "statistic, pvalue = stats.f_oneway(lab.iloc[:,0],lab.iloc[:,1],lab.iloc[:,2],lab.iloc[:,3])\n",
    "print('The p_value is : ', pvalue)"
   ]
  },
  {
   "cell_type": "code",
   "execution_count": 58,
   "id": "41cb7f6b",
   "metadata": {},
   "outputs": [],
   "source": [
    "# As we can see, p_value is <= Significance level (0.05) \n",
    "# We reject Null hypothesis, which means that there is a difference in TAT for reports of atleast 1 lab."
   ]
  },
  {
   "cell_type": "code",
   "execution_count": null,
   "id": "6a39d533",
   "metadata": {},
   "outputs": [],
   "source": []
  },
  {
   "cell_type": "code",
   "execution_count": null,
   "id": "65e07ed7",
   "metadata": {},
   "outputs": [],
   "source": []
  },
  {
   "cell_type": "markdown",
   "id": "c2ab63be",
   "metadata": {},
   "source": [
    "Q3. Sales of products in four different regions is tabulated for males and females. Find if male-female buyer rations are similar across regions."
   ]
  },
  {
   "cell_type": "code",
   "execution_count": 59,
   "id": "26f73f71",
   "metadata": {},
   "outputs": [],
   "source": [
    "# Step1 : Make two hypothesis: We need to check if the male-female buyer ratio are same across regions or not.\n",
    "# Null hypothesis H0   : Male Female buyer ratio across regions are same.\n",
    "# Alternate hypothesis : There is no association in ratio across regions. Ratio is different in atleast 1 region.\n",
    "# Since the data has >2 categorical variables, we'll conduct a Chi-squared test of independence to check for association."
   ]
  },
  {
   "cell_type": "code",
   "execution_count": 60,
   "id": "a2cf0440",
   "metadata": {},
   "outputs": [],
   "source": [
    "# Step2 : Significance level = 5%\n",
    "# Alpha = 0.05"
   ]
  },
  {
   "cell_type": "code",
   "execution_count": 62,
   "id": "a3be8975",
   "metadata": {},
   "outputs": [
    {
     "data": {
      "text/html": [
       "<div>\n",
       "<style scoped>\n",
       "    .dataframe tbody tr th:only-of-type {\n",
       "        vertical-align: middle;\n",
       "    }\n",
       "\n",
       "    .dataframe tbody tr th {\n",
       "        vertical-align: top;\n",
       "    }\n",
       "\n",
       "    .dataframe thead th {\n",
       "        text-align: right;\n",
       "    }\n",
       "</style>\n",
       "<table border=\"1\" class=\"dataframe\">\n",
       "  <thead>\n",
       "    <tr style=\"text-align: right;\">\n",
       "      <th></th>\n",
       "      <th>East</th>\n",
       "      <th>West</th>\n",
       "      <th>North</th>\n",
       "      <th>South</th>\n",
       "    </tr>\n",
       "    <tr>\n",
       "      <th>Observed Values</th>\n",
       "      <th></th>\n",
       "      <th></th>\n",
       "      <th></th>\n",
       "      <th></th>\n",
       "    </tr>\n",
       "  </thead>\n",
       "  <tbody>\n",
       "    <tr>\n",
       "      <th>Males</th>\n",
       "      <td>50</td>\n",
       "      <td>142</td>\n",
       "      <td>131</td>\n",
       "      <td>70</td>\n",
       "    </tr>\n",
       "    <tr>\n",
       "      <th>Females</th>\n",
       "      <td>435</td>\n",
       "      <td>1523</td>\n",
       "      <td>1356</td>\n",
       "      <td>750</td>\n",
       "    </tr>\n",
       "  </tbody>\n",
       "</table>\n",
       "</div>"
      ],
      "text/plain": [
       "                 East  West  North  South\n",
       "Observed Values                          \n",
       "Males              50   142    131     70\n",
       "Females           435  1523   1356    750"
      ]
     },
     "execution_count": 62,
     "metadata": {},
     "output_type": "execute_result"
    }
   ],
   "source": [
    "# Step3 : We import the data and gather information.\n",
    "import pandas as pd\n",
    "buyer = pd.read_csv(\"C:/Users/Administrator/Desktop/ExcelR/Assignment/Assignment3/BuyerRatio.csv\",index_col='Observed Values')\n",
    "buyer.head()"
   ]
  },
  {
   "cell_type": "code",
   "execution_count": 81,
   "id": "13766c8d",
   "metadata": {},
   "outputs": [
    {
     "name": "stdout",
     "output_type": "stream",
     "text": [
      "0.6603094907091882 3 [[  42.76531299  146.81287862  131.11756787   72.30424052]\n",
      " [ 442.23468701 1518.18712138 1355.88243213  747.69575948]]\n"
     ]
    }
   ],
   "source": [
    "statistic , p_value, dof, expected = stats.chi2_contingency(buyer)\n",
    "print(p_value, dof, expected)"
   ]
  },
  {
   "cell_type": "code",
   "execution_count": 77,
   "id": "b12dcfd7",
   "metadata": {},
   "outputs": [],
   "source": [
    "import numpy as np\n",
    "observed = np.array([50, 142, 131, 70, 435, 1523, 1356, 750])\n",
    "expected = np.array([42.76531299,  146.81287862,  131.11756787, 72.30424052, 442.23468701, 1518.18712138, 1355.88243213, 747.69575948])"
   ]
  },
  {
   "cell_type": "code",
   "execution_count": 79,
   "id": "18a34b97",
   "metadata": {},
   "outputs": [
    {
     "name": "stdout",
     "output_type": "stream",
     "text": [
      "p_value is :  0.8095206646905712\n"
     ]
    }
   ],
   "source": [
    "# Step4 : Comparing evidence with hypothesis\n",
    "statistic, p_value = stats.chisquare(observed,expected,ddof=dof)\n",
    "print('p_value is : ',p_value)"
   ]
  },
  {
   "cell_type": "code",
   "execution_count": 82,
   "id": "2bb1385a",
   "metadata": {},
   "outputs": [],
   "source": [
    "# Comparing p_value with Significance level (0.05)\n",
    "# p_value is greater than significance level. Hence we accept H0 : Male Female buyer ratio across regions are same."
   ]
  },
  {
   "cell_type": "code",
   "execution_count": null,
   "id": "a0ee0a15",
   "metadata": {},
   "outputs": [],
   "source": []
  },
  {
   "cell_type": "code",
   "execution_count": null,
   "id": "aa807e19",
   "metadata": {},
   "outputs": [],
   "source": []
  },
  {
   "cell_type": "markdown",
   "id": "54f6380f",
   "metadata": {},
   "source": [
    "Q4. TeleCall uses 4 centers around the globe to process customer order forms. They audit a certain %  of the customer order forms. Any error in order form renders it defective and has to be reworked before processing.  The manager wants to check whether the defective %  varies by centre. Please analyze the data at 5% significance level and help the manager draw appropriate inferences."
   ]
  },
  {
   "cell_type": "code",
   "execution_count": 83,
   "id": "e96cfd15",
   "metadata": {},
   "outputs": [],
   "source": [
    "# Step1 : Make two hypothesis\n",
    "# Null hypothesis H0   : Defective % across all 4 centers are same.\n",
    "# Alternate hypothesis : Defective % is not same at 1 center atleast. "
   ]
  },
  {
   "cell_type": "code",
   "execution_count": 84,
   "id": "1bf4374f",
   "metadata": {},
   "outputs": [],
   "source": [
    "# Step2 : Significance level = 5%\n",
    "# Alpha = 0.05"
   ]
  },
  {
   "cell_type": "code",
   "execution_count": 85,
   "id": "11a7fc8b",
   "metadata": {},
   "outputs": [],
   "source": [
    "# Step3 : Importing data. "
   ]
  },
  {
   "cell_type": "code",
   "execution_count": 86,
   "id": "632ad77e",
   "metadata": {},
   "outputs": [
    {
     "data": {
      "text/html": [
       "<div>\n",
       "<style scoped>\n",
       "    .dataframe tbody tr th:only-of-type {\n",
       "        vertical-align: middle;\n",
       "    }\n",
       "\n",
       "    .dataframe tbody tr th {\n",
       "        vertical-align: top;\n",
       "    }\n",
       "\n",
       "    .dataframe thead th {\n",
       "        text-align: right;\n",
       "    }\n",
       "</style>\n",
       "<table border=\"1\" class=\"dataframe\">\n",
       "  <thead>\n",
       "    <tr style=\"text-align: right;\">\n",
       "      <th></th>\n",
       "      <th>Phillippines</th>\n",
       "      <th>Indonesia</th>\n",
       "      <th>Malta</th>\n",
       "      <th>India</th>\n",
       "    </tr>\n",
       "  </thead>\n",
       "  <tbody>\n",
       "    <tr>\n",
       "      <th>0</th>\n",
       "      <td>Error Free</td>\n",
       "      <td>Error Free</td>\n",
       "      <td>Defective</td>\n",
       "      <td>Error Free</td>\n",
       "    </tr>\n",
       "    <tr>\n",
       "      <th>1</th>\n",
       "      <td>Error Free</td>\n",
       "      <td>Error Free</td>\n",
       "      <td>Error Free</td>\n",
       "      <td>Defective</td>\n",
       "    </tr>\n",
       "    <tr>\n",
       "      <th>2</th>\n",
       "      <td>Error Free</td>\n",
       "      <td>Defective</td>\n",
       "      <td>Defective</td>\n",
       "      <td>Error Free</td>\n",
       "    </tr>\n",
       "    <tr>\n",
       "      <th>3</th>\n",
       "      <td>Error Free</td>\n",
       "      <td>Error Free</td>\n",
       "      <td>Error Free</td>\n",
       "      <td>Error Free</td>\n",
       "    </tr>\n",
       "    <tr>\n",
       "      <th>4</th>\n",
       "      <td>Error Free</td>\n",
       "      <td>Error Free</td>\n",
       "      <td>Defective</td>\n",
       "      <td>Error Free</td>\n",
       "    </tr>\n",
       "  </tbody>\n",
       "</table>\n",
       "</div>"
      ],
      "text/plain": [
       "  Phillippines   Indonesia       Malta       India\n",
       "0   Error Free  Error Free   Defective  Error Free\n",
       "1   Error Free  Error Free  Error Free   Defective\n",
       "2   Error Free   Defective   Defective  Error Free\n",
       "3   Error Free  Error Free  Error Free  Error Free\n",
       "4   Error Free  Error Free   Defective  Error Free"
      ]
     },
     "execution_count": 86,
     "metadata": {},
     "output_type": "execute_result"
    }
   ],
   "source": [
    "center = pd.read_csv(\"C:/Users/Administrator/Desktop/ExcelR/Assignment/Assignment3/CostomerOrderForm.csv\")\n",
    "center.head()"
   ]
  },
  {
   "cell_type": "code",
   "execution_count": 99,
   "id": "9b3eeb6e",
   "metadata": {},
   "outputs": [
    {
     "data": {
      "text/html": [
       "<div>\n",
       "<style scoped>\n",
       "    .dataframe tbody tr th:only-of-type {\n",
       "        vertical-align: middle;\n",
       "    }\n",
       "\n",
       "    .dataframe tbody tr th {\n",
       "        vertical-align: top;\n",
       "    }\n",
       "\n",
       "    .dataframe thead th {\n",
       "        text-align: right;\n",
       "    }\n",
       "</style>\n",
       "<table border=\"1\" class=\"dataframe\">\n",
       "  <thead>\n",
       "    <tr style=\"text-align: right;\">\n",
       "      <th></th>\n",
       "      <th>count</th>\n",
       "      <th>unique</th>\n",
       "      <th>top</th>\n",
       "      <th>freq</th>\n",
       "    </tr>\n",
       "  </thead>\n",
       "  <tbody>\n",
       "    <tr>\n",
       "      <th>Phillippines</th>\n",
       "      <td>300</td>\n",
       "      <td>2</td>\n",
       "      <td>Error Free</td>\n",
       "      <td>271</td>\n",
       "    </tr>\n",
       "    <tr>\n",
       "      <th>Indonesia</th>\n",
       "      <td>300</td>\n",
       "      <td>2</td>\n",
       "      <td>Error Free</td>\n",
       "      <td>267</td>\n",
       "    </tr>\n",
       "    <tr>\n",
       "      <th>Malta</th>\n",
       "      <td>300</td>\n",
       "      <td>2</td>\n",
       "      <td>Error Free</td>\n",
       "      <td>269</td>\n",
       "    </tr>\n",
       "    <tr>\n",
       "      <th>India</th>\n",
       "      <td>300</td>\n",
       "      <td>2</td>\n",
       "      <td>Error Free</td>\n",
       "      <td>280</td>\n",
       "    </tr>\n",
       "  </tbody>\n",
       "</table>\n",
       "</div>"
      ],
      "text/plain": [
       "             count unique         top freq\n",
       "Phillippines   300      2  Error Free  271\n",
       "Indonesia      300      2  Error Free  267\n",
       "Malta          300      2  Error Free  269\n",
       "India          300      2  Error Free  280"
      ]
     },
     "execution_count": 99,
     "metadata": {},
     "output_type": "execute_result"
    }
   ],
   "source": [
    "center.describe().T"
   ]
  },
  {
   "cell_type": "code",
   "execution_count": 106,
   "id": "c190a1ed",
   "metadata": {},
   "outputs": [
    {
     "name": "stdout",
     "output_type": "stream",
     "text": [
      "Phillippines\n",
      "Error Free    271\n",
      "Defective      29\n",
      "Name: Phillippines, dtype: int64\n",
      "Indonesia\n",
      "Error Free    267\n",
      "Defective      33\n",
      "Name: Indonesia, dtype: int64\n",
      "Malta\n",
      "Error Free    269\n",
      "Defective      31\n",
      "Name: Malta, dtype: int64\n",
      "India\n",
      "Error Free    280\n",
      "Defective      20\n",
      "Name: India, dtype: int64\n"
     ]
    }
   ],
   "source": [
    "for col in center:\n",
    "    print(col)\n",
    "    print(center[col].value_counts())"
   ]
  },
  {
   "cell_type": "code",
   "execution_count": 107,
   "id": "67092708",
   "metadata": {},
   "outputs": [
    {
     "name": "stdout",
     "output_type": "stream",
     "text": [
      "[[271, 267, 269, 280], [29, 33, 31, 20]]\n"
     ]
    }
   ],
   "source": [
    "# Creating Contingency table:\n",
    "contingency_table = [[271,267,269,280],[29,33,31,20]]\n",
    "print(contingency_table)"
   ]
  },
  {
   "cell_type": "code",
   "execution_count": 108,
   "id": "196d2f27",
   "metadata": {},
   "outputs": [
    {
     "name": "stdout",
     "output_type": "stream",
     "text": [
      "[[271.75 271.75 271.75 271.75]\n",
      " [ 28.25  28.25  28.25  28.25]]\n"
     ]
    }
   ],
   "source": [
    "# Calculating expected values for contingency_table:\n",
    "statsistic , p_value, dof, expected = stats.chi2_contingency(contingency_table)\n",
    "print(expected)"
   ]
  },
  {
   "cell_type": "code",
   "execution_count": 109,
   "id": "d6858007",
   "metadata": {},
   "outputs": [],
   "source": [
    "# Defining observed and expected values\n",
    "observed = np.array([271, 267, 269, 280, 29, 33, 31, 20])\n",
    "expected = np.array([271.75, 271.75, 271.75, 271.75, 28.25,  28.25,  28.25,28.25])"
   ]
  },
  {
   "cell_type": "code",
   "execution_count": 113,
   "id": "a5452beb",
   "metadata": {},
   "outputs": [
    {
     "name": "stdout",
     "output_type": "stream",
     "text": [
      "0.4254298144535761\n"
     ]
    }
   ],
   "source": [
    "# Using chi square test:\n",
    "statistic, p_value = stats.chisquare(observed, expected, ddof=dof)\n",
    "print(p_value)"
   ]
  },
  {
   "cell_type": "code",
   "execution_count": 114,
   "id": "30f3d8c4",
   "metadata": {},
   "outputs": [],
   "source": [
    "# Since p_value is higher as compared with significance level : 0.425>0.05 , \n",
    "# We accept null hypothesis and we can conclue that defective percentage is same across all centers. "
   ]
  },
  {
   "cell_type": "code",
   "execution_count": null,
   "id": "841f2754",
   "metadata": {},
   "outputs": [],
   "source": []
  }
 ],
 "metadata": {
  "kernelspec": {
   "display_name": "Python 3 (ipykernel)",
   "language": "python",
   "name": "python3"
  },
  "language_info": {
   "codemirror_mode": {
    "name": "ipython",
    "version": 3
   },
   "file_extension": ".py",
   "mimetype": "text/x-python",
   "name": "python",
   "nbconvert_exporter": "python",
   "pygments_lexer": "ipython3",
   "version": "3.10.9"
  }
 },
 "nbformat": 4,
 "nbformat_minor": 5
}
